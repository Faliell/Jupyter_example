{
 "cells": [
  {
   "cell_type": "markdown",
   "id": "cf10eb43-5760-4987-a999-57efbbbee4d2",
   "metadata": {},
   "source": [
    "# Data Science Tools and Ecosystem"
   ]
  },
  {
   "cell_type": "markdown",
   "id": "eb7be602-f541-4e29-932c-e03b99572f59",
   "metadata": {},
   "source": [
    "In this notebook, Data Science Tools and Ecosystem are summarized."
   ]
  },
  {
   "cell_type": "markdown",
   "id": "0551e17d-d521-494e-a740-61920f3f3989",
   "metadata": {},
   "source": [
    "Objectives:\n",
    "\n",
    "- popular languages that Data Scientists\n",
    "- commonly used libraries used by Data Scientists\n",
    "- Data Science Tools\n",
    "- Provide examples of evaluating arithmetic expressions in Python.\n"
   ]
  },
  {
   "cell_type": "markdown",
   "id": "30940a9d-46f2-4a28-b52e-1ca62a4208c0",
   "metadata": {},
   "source": [
    "Some of the popular languages that Data Scientists use are:\n",
    "1. Python\n",
    "2. R\n",
    "3. Julia\n",
    "4. Java\n",
    "    "
   ]
  },
  {
   "cell_type": "markdown",
   "id": "482e7f6f-d7f4-4e4e-a3ff-ac156705e564",
   "metadata": {},
   "source": [
    "Some of the commonly used libraries used by Data Scientists include:\n",
    "1. dplyr\n",
    "2. ggplot2\n",
    "3. caret"
   ]
  },
  {
   "cell_type": "markdown",
   "id": "564f365d-ad0d-4a6c-af22-ab254309b2fb",
   "metadata": {
    "tags": []
   },
   "source": [
    "| Data Science Tools     |\n",
    "|------------------------|\n",
    "| Jupyter Notebooks      |\n",
    "| RStudio                |\n",
    "| VS Code with Python|\n"
   ]
  },
  {
   "cell_type": "markdown",
   "id": "5dc45e61-1eb1-41d7-bed6-cb495168d635",
   "metadata": {},
   "source": [
    "### Below are a few examples of evaluating arithmetic expressions in Python.\n",
    "2 + 3 * 4 / 5"
   ]
  },
  {
   "cell_type": "code",
   "execution_count": 6,
   "id": "1849f7bb-7be5-4c70-9911-4d8473c7237c",
   "metadata": {
    "tags": []
   },
   "outputs": [
    {
     "data": {
      "text/plain": [
       "17"
      ]
     },
     "execution_count": 6,
     "metadata": {},
     "output_type": "execute_result"
    }
   ],
   "source": [
    "# This is a simple arithmetic expression to multiply then add integers.\n",
    "3 * 4 + 5"
   ]
  },
  {
   "cell_type": "code",
   "execution_count": 7,
   "id": "bb09a43c-f949-42c7-a467-ab0fac567c90",
   "metadata": {
    "tags": []
   },
   "outputs": [
    {
     "name": "stdout",
     "output_type": "stream",
     "text": [
      "3.3333333333333335\n"
     ]
    }
   ],
   "source": [
    "# This will convert 200 minutes to hours by dividing by 60.\n",
    "minutes = 200\n",
    "hours = minutes / 60\n",
    "print(hours)"
   ]
  },
  {
   "cell_type": "markdown",
   "id": "8deb9257-d191-4fd5-b5c9-d997420408b6",
   "metadata": {},
   "source": [
    "## Author\n",
    "\n",
    "Fabio Schapowal"
   ]
  }
 ],
 "metadata": {
  "kernelspec": {
   "display_name": "Python",
   "language": "python",
   "name": "conda-env-python-py"
  },
  "language_info": {
   "codemirror_mode": {
    "name": "ipython",
    "version": 3
   },
   "file_extension": ".py",
   "mimetype": "text/x-python",
   "name": "python",
   "nbconvert_exporter": "python",
   "pygments_lexer": "ipython3",
   "version": "3.7.12"
  }
 },
 "nbformat": 4,
 "nbformat_minor": 5
}
